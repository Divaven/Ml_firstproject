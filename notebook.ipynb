{
 "cells": [
  {
   "metadata": {
    "ExecuteTime": {
     "end_time": "2025-05-29T09:32:45.059732Z",
     "start_time": "2025-05-29T09:32:44.765702Z"
    }
   },
   "cell_type": "code",
   "source": [
    "import pandas as pd\n",
    "\n",
    "matches = pd.read_csv(\"matches.csv\", parse_dates=[\"date\"])\n",
    "players = pd.read_csv(\"players.csv\")\n",
    "attr    = pd.read_csv(\"players_attributes.csv\")\n",
    "\n",
    "print(\"Matches:\", matches.shape)\n",
    "print(\"Players:\", players.shape)\n",
    "print(\"Attributes:\", attr.shape)\n",
    "matches.head(), players.head(), attr.head()\n"
   ],
   "id": "f2470c7d7bd88dbd",
   "outputs": [
    {
     "name": "stdout",
     "output_type": "stream",
     "text": [
      "Matches: (10007, 57)\n",
      "Players: (20458, 4)\n",
      "Attributes: (12247, 35)\n"
     ]
    },
    {
     "data": {
      "text/plain": [
       "(        date   homePlayer1      homePlayer2        homePlayer3  \\\n",
       " 0 2016-01-02        Adrián  Aaron Cresswell      James Tomkins   \n",
       " 1 2016-01-02   Declan Rudd   Russell Martin  Sébastien Bassong   \n",
       " 2 2016-01-02  David de Gea       Phil Jones          Juan Mata   \n",
       " 3 2016-01-02     Petr Čech  Per Mertesacker  Laurent Koscielny   \n",
       " 4 2016-01-02   Boaz Myhill    Claudio Yacob        Jonny Evans   \n",
       " \n",
       "         homePlayer4        homePlayer5     homePlayer6  \\\n",
       " 0  Cheikhou Kouyaté       Andy Carroll  Manuel Lanzini   \n",
       " 1      Jonny Howson  Dieumerci Mbokani    Robbie Brady   \n",
       " 2      Wayne Rooney    Anthony Martial  Chris Smalling   \n",
       " 3        Mesut Özil     Olivier Giroud    Theo Walcott   \n",
       " 4    James Morrison      Craig Gardner     Chris Brunt   \n",
       " \n",
       "                homePlayer7     homePlayer8      homePlayer9  ... homeThrowIns  \\\n",
       " 0           Enner Valencia      Mark Noble    James Collins  ...          NaN   \n",
       " 1             Wes Hoolahan  Nathan Redmond     Ryan Bennett  ...          NaN   \n",
       " 2              Daley Blind    Ashley Young    Ander Herrera  ...          NaN   \n",
       " 3  Alex Oxlade-Chamberlain    Aaron Ramsey    Nacho Monreal  ...          NaN   \n",
       " 4           Rickie Lambert  Gareth McAuley  Darren Fletcher  ...          NaN   \n",
       " \n",
       "   awayThrowIns homeLongBalls awayLongBalls        homeTeam       awayTeam  \\\n",
       " 0          NaN           NaN           NaN        West Ham      Liverpool   \n",
       " 1          NaN           NaN           NaN    Norwich City    Southampton   \n",
       " 2          NaN           NaN           NaN  Manchester Utd   Swansea City   \n",
       " 3          NaN           NaN           NaN         Arsenal  Newcastle Utd   \n",
       " 4          NaN           NaN           NaN       West Brom     Stoke City   \n",
       " \n",
       "   scoreHome scoreAway homeXG awayXG  \n",
       " 0       2.0       0.0    NaN    NaN  \n",
       " 1       1.0       0.0    NaN    NaN  \n",
       " 2       2.0       1.0    NaN    NaN  \n",
       " 3       1.0       0.0    NaN    NaN  \n",
       " 4       2.0       1.0    NaN    NaN  \n",
       " \n",
       " [5 rows x 57 columns],\n",
       "                                                   ID  FIFA  \\\n",
       " 0  /player/20801/c-ronaldo-dos-santos-aveiro/170099/    17   \n",
       " 1                /player/158023/lionel-messi/170099/    17   \n",
       " 2                /player/167495/manuel-neuer/170099/    17   \n",
       " 3                 /player/176580/luis-suarez/170099/    17   \n",
       " 4   /player/190871/neymar-da-silva-santos-jr/170099/    17   \n",
       " \n",
       "                            Name               Club  \n",
       " 0  C. Ronaldo dos Santos Aveiro        Real Madrid  \n",
       " 1                  Lionel Messi       FC Barcelona  \n",
       " 2                  Manuel Neuer  FC Bayern München  \n",
       " 3                   Luis Suárez       FC Barcelona  \n",
       " 4    Neymar da Silva Santos Jr.       FC Barcelona  ,\n",
       "                                         ID  Crossing  Finishing  \\\n",
       " 0   /player/189615/aaron-cresswell/170099/        80         53   \n",
       " 1     /player/173546/james-tomkins/170099/        45         29   \n",
       " 2  /player/186801/cheikhou-kouyate/170099/        54         65   \n",
       " 3      /player/182836/andy-carroll/170099/        64         77   \n",
       " 4    /player/188988/manuel-lanzini/170099/        74         69   \n",
       " \n",
       "    Heading Accuracy  Short Passing  Volleys  Dribbling  Curve  FK Accuracy  \\\n",
       " 0                58             72       45         76     75           69   \n",
       " 1                78             63       28         50     33           31   \n",
       " 2                80             68       50         68     39           47   \n",
       " 3                91             65       74         67     53           42   \n",
       " 4                56             78       61         86     75           76   \n",
       " \n",
       "    Long Passing  ...  Penalties  Composure  Marking  Standing Tackle  \\\n",
       " 0            68  ...         59         72       76               75   \n",
       " 1            60  ...         43         69       77               79   \n",
       " 2            64  ...         52         72       70               81   \n",
       " 3            56  ...         73         78       42               46   \n",
       " 4            77  ...         68         75       20               26   \n",
       " \n",
       "    Sliding Tackle  GK Diving  GK Handling  GK Kicking  GK Positioning  \\\n",
       " 0              78         14            7           9               9   \n",
       " 1              80         11            8           6               9   \n",
       " 2              75         15            8           9              12   \n",
       " 3              43         14           14          12              10   \n",
       " 4              25         14            9           6               7   \n",
       " \n",
       "    GK Reflexes  \n",
       " 0           12  \n",
       " 1           14  \n",
       " 2            9  \n",
       " 3            6  \n",
       " 4           15  \n",
       " \n",
       " [5 rows x 35 columns])"
      ]
     },
     "execution_count": 1,
     "metadata": {},
     "output_type": "execute_result"
    }
   ],
   "execution_count": 1
  },
  {
   "metadata": {
    "ExecuteTime": {
     "end_time": "2025-05-29T09:33:38.164130Z",
     "start_time": "2025-05-29T09:33:26.461557Z"
    }
   },
   "cell_type": "code",
   "source": [
    "import numpy as np\n",
    "attr[\"PlayerID\"]    = attr[\"ID\"].str.extract(r\"^(.+/\\d+/)\")\n",
    "players[\"PlayerID\"] = players[\"ID\"].str.extract(r\"^(.+/\\d+/)\")\n",
    "p = players[[\"PlayerID\",\"Name\"]].merge(attr, on=\"PlayerID\", how=\"inner\")\n",
    "skill_cols = [c for c in p.select_dtypes(\"number\").columns if c!=\"FIFA\"]\n",
    "\n",
    "def avg_skill(row, side):\n",
    "    names = [row[f\"{side}Player{i}\"] for i in range(1,12)]\n",
    "    skills = p[p[\"Name\"].isin(names)][skill_cols]\n",
    "    return skills.stack().mean() if not skills.empty else np.nan\n",
    "\n",
    "matches[\"lineup_size_home\"] = matches[[f\"homePlayer{i}\" for i in range(1,12)]].notna().sum(axis=1)\n",
    "matches[\"lineup_size_away\"] = matches[[f\"awayPlayer{i}\" for i in range(1,12)]].notna().sum(axis=1)\n",
    "matches[\"home_skill\"]       = matches.apply(lambda r: avg_skill(r,\"home\"), axis=1)\n",
    "matches[\"away_skill\"]       = matches.apply(lambda r: avg_skill(r,\"away\"), axis=1)\n",
    "matches[\"skill_diff\"]       = matches[\"home_skill\"] - matches[\"away_skill\"]\n",
    "\n",
    "matches[[\"lineup_size_home\",\"lineup_size_away\",\"skill_diff\"]].head()\n"
   ],
   "id": "6b8a9b4b37d5cf5",
   "outputs": [
    {
     "data": {
      "text/plain": [
       "   lineup_size_home  lineup_size_away  skill_diff\n",
       "0                11                11    1.087995\n",
       "1                11                11   -2.984174\n",
       "2                11                11    7.426023\n",
       "3                11                11   -2.114978\n",
       "4                11                11   -2.907868"
      ],
      "text/html": [
       "<div>\n",
       "<style scoped>\n",
       "    .dataframe tbody tr th:only-of-type {\n",
       "        vertical-align: middle;\n",
       "    }\n",
       "\n",
       "    .dataframe tbody tr th {\n",
       "        vertical-align: top;\n",
       "    }\n",
       "\n",
       "    .dataframe thead th {\n",
       "        text-align: right;\n",
       "    }\n",
       "</style>\n",
       "<table border=\"1\" class=\"dataframe\">\n",
       "  <thead>\n",
       "    <tr style=\"text-align: right;\">\n",
       "      <th></th>\n",
       "      <th>lineup_size_home</th>\n",
       "      <th>lineup_size_away</th>\n",
       "      <th>skill_diff</th>\n",
       "    </tr>\n",
       "  </thead>\n",
       "  <tbody>\n",
       "    <tr>\n",
       "      <th>0</th>\n",
       "      <td>11</td>\n",
       "      <td>11</td>\n",
       "      <td>1.087995</td>\n",
       "    </tr>\n",
       "    <tr>\n",
       "      <th>1</th>\n",
       "      <td>11</td>\n",
       "      <td>11</td>\n",
       "      <td>-2.984174</td>\n",
       "    </tr>\n",
       "    <tr>\n",
       "      <th>2</th>\n",
       "      <td>11</td>\n",
       "      <td>11</td>\n",
       "      <td>7.426023</td>\n",
       "    </tr>\n",
       "    <tr>\n",
       "      <th>3</th>\n",
       "      <td>11</td>\n",
       "      <td>11</td>\n",
       "      <td>-2.114978</td>\n",
       "    </tr>\n",
       "    <tr>\n",
       "      <th>4</th>\n",
       "      <td>11</td>\n",
       "      <td>11</td>\n",
       "      <td>-2.907868</td>\n",
       "    </tr>\n",
       "  </tbody>\n",
       "</table>\n",
       "</div>"
      ]
     },
     "execution_count": 2,
     "metadata": {},
     "output_type": "execute_result"
    }
   ],
   "execution_count": 2
  },
  {
   "metadata": {
    "ExecuteTime": {
     "end_time": "2025-05-29T09:34:25.811712Z",
     "start_time": "2025-05-29T09:33:42.931792Z"
    }
   },
   "cell_type": "code",
   "source": [
    "import numpy as np\n",
    "matches = matches.sort_values(\"date\").reset_index(drop=True)\n",
    "\n",
    "home = matches[[\"date\",\"homeTeam\",\"awayTeam\",\"scoreHome\",\"scoreAway\"]].rename(\n",
    "    columns={\"homeTeam\":\"team\",\"awayTeam\":\"opponent\",\"scoreHome\":\"goals_for\",\"scoreAway\":\"goals_against\"})\n",
    "away = matches[[\"date\",\"awayTeam\",\"homeTeam\",\"scoreAway\",\"scoreHome\"]].rename(\n",
    "    columns={\"awayTeam\":\"team\",\"homeTeam\":\"opponent\",\"scoreAway\":\"goals_for\",\"scoreHome\":\"goals_against\"})\n",
    "allm = pd.concat([home,away], ignore_index=True)\n",
    "\n",
    "allm[\"result_bin\"] = (allm[\"goals_for\"]>allm[\"goals_against\"]).astype(int)\n",
    "allm[\"form_5\"] = (allm.groupby(\"team\")[\"result_bin\"]\n",
    "                  .rolling(5, min_periods=1).mean()\n",
    "                  .reset_index(level=0, drop=True))\n",
    "\n",
    "matches[\"home_form_5\"] = matches.apply(\n",
    "    lambda r: allm[(allm.team==r.homeTeam)&(allm.date<r.date)][\"form_5\"].iloc[-1]\n",
    "              if any((allm.team==r.homeTeam)&(allm.date<r.date)) else 0,\n",
    "    axis=1)\n",
    "matches[\"away_form_5\"] = matches.apply(\n",
    "    lambda r: allm[(allm.team==r.awayTeam)&(allm.date<r.date)][\"form_5\"].iloc[-1]\n",
    "              if any((allm.team==r.awayTeam)&(allm.date<r.date)) else 0,\n",
    "    axis=1)\n",
    "\n",
    "matches[\"h2h_home_wins\"] = matches.apply(\n",
    "    lambda r: int(allm[(allm.team==r.homeTeam)&\n",
    "                       (allm.opponent==r.awayTeam)&\n",
    "                       (allm.date<r.date)][\"result_bin\"].sum()),\n",
    "    axis=1)\n",
    "matches[\"h2h_away_wins\"] = matches.apply(\n",
    "    lambda r: int(allm[(allm.team==r.awayTeam)&\n",
    "                       (allm.opponent==r.homeTeam)&\n",
    "                       (allm.date<r.date)][\"result_bin\"].sum()),\n",
    "    axis=1)\n",
    "\n",
    "teams = pd.unique(matches[[\"homeTeam\",\"awayTeam\"]].values.ravel())\n",
    "elo   = {t:1500 for t in teams}\n",
    "K=20; he=[]; ae=[]\n",
    "for _,r in matches.iterrows():\n",
    "    Rh,Ra = elo[r.homeTeam], elo[r.awayTeam]\n",
    "    Eh = 1/(1+10**((Ra-Rh)/400))\n",
    "    Sh = 1 if r.scoreHome>r.scoreAway else (0.5 if r.scoreHome==r.scoreAway else 0)\n",
    "    elo[r.homeTeam] = Rh + K*(Sh-Eh)\n",
    "    elo[r.awayTeam] = Ra + K*((1-Sh)-(1-Eh))\n",
    "    he.append(elo[r.homeTeam]); ae.append(elo[r.awayTeam])\n",
    "matches[\"home_elo\"] = he\n",
    "matches[\"away_elo\"] = ae\n",
    "matches[\"elo_diff\"] = matches[\"home_elo\"] - matches[\"away_elo\"]\n"
   ],
   "id": "f45c6e0deb870664",
   "outputs": [],
   "execution_count": 3
  },
  {
   "metadata": {
    "ExecuteTime": {
     "end_time": "2025-05-29T09:34:41.568841Z",
     "start_time": "2025-05-29T09:34:40.982104Z"
    }
   },
   "cell_type": "code",
   "source": [
    "from sklearn.model_selection import train_test_split\n",
    "import numpy as np\n",
    "\n",
    "matches[\"result\"] = np.select(\n",
    "    [matches.scoreHome>matches.scoreAway,\n",
    "     matches.scoreHome<matches.scoreAway],\n",
    "    [1,0], default=2\n",
    ")\n",
    "\n",
    "features = [\n",
    "  \"home_form_5\",\"away_form_5\",\n",
    "  \"h2h_home_wins\",\"h2h_away_wins\",\n",
    "  \"home_elo\",\"away_elo\",\"elo_diff\",\n",
    "  \"lineup_size_home\",\"lineup_size_away\",\"skill_diff\"\n",
    "]\n",
    "features = [f for f in features if f in matches.columns]\n",
    "\n",
    "X = matches[features].fillna(0)\n",
    "y = matches[\"result\"]\n",
    "X_train, X_test, y_train, y_test = train_test_split(\n",
    "    X, y, test_size=0.2, random_state=42, stratify=y\n",
    ")\n",
    "\n",
    "print(\"Features:\", features)\n",
    "print(\"X_train:\", X_train.shape, \"X_test:\", X_test.shape)\n"
   ],
   "id": "d1e6dbc194cc28c6",
   "outputs": [
    {
     "name": "stdout",
     "output_type": "stream",
     "text": [
      "Features: ['home_form_5', 'away_form_5', 'h2h_home_wins', 'h2h_away_wins', 'home_elo', 'away_elo', 'elo_diff', 'lineup_size_home', 'lineup_size_away', 'skill_diff']\n",
      "X_train: (8005, 10) X_test: (2002, 10)\n"
     ]
    }
   ],
   "execution_count": 4
  },
  {
   "metadata": {
    "ExecuteTime": {
     "end_time": "2025-05-29T09:35:05.795865Z",
     "start_time": "2025-05-29T09:34:49.360913Z"
    }
   },
   "cell_type": "code",
   "source": [
    "from sklearn.ensemble import HistGradientBoostingClassifier\n",
    "from sklearn.model_selection import RandomizedSearchCV, StratifiedKFold\n",
    "\n",
    "param_dist = {\n",
    "  \"max_iter\":        [100,200,300,400],\n",
    "  \"max_depth\":       [3,5,7,None],\n",
    "  \"learning_rate\":   [0.005,0.01,0.05,0.1],\n",
    "  \"min_samples_leaf\":[20,50,100,200],\n",
    "  \"l2_regularization\":[0,0.1,1,5]\n",
    "}\n",
    "\n",
    "hgb = HistGradientBoostingClassifier(random_state=42, early_stopping=False)\n",
    "\n",
    "rand_hgb = RandomizedSearchCV(\n",
    "    hgb, param_dist, n_iter=30,\n",
    "    cv=StratifiedKFold(5, shuffle=True, random_state=42),\n",
    "    scoring=\"f1_macro\", n_jobs=-1, verbose=1, random_state=42\n",
    ")\n",
    "rand_hgb.fit(X_train, y_train)\n",
    "\n",
    "best_hgb = rand_hgb.best_estimator_\n",
    "print(\"Best HGB params:\", rand_hgb.best_params_)\n",
    "print(\"Best CV macro-F1:\", rand_hgb.best_score_)\n"
   ],
   "id": "c36576a1f7a43221",
   "outputs": [
    {
     "name": "stdout",
     "output_type": "stream",
     "text": [
      "Fitting 5 folds for each of 30 candidates, totalling 150 fits\n",
      "Best HGB params: {'min_samples_leaf': 50, 'max_iter': 400, 'max_depth': 3, 'learning_rate': 0.05, 'l2_regularization': 1}\n",
      "Best CV macro-F1: 0.49593397867231\n"
     ]
    }
   ],
   "execution_count": 5
  },
  {
   "metadata": {
    "ExecuteTime": {
     "end_time": "2025-05-29T09:35:43.608750Z",
     "start_time": "2025-05-29T09:35:42.704202Z"
    }
   },
   "cell_type": "code",
   "source": [
    "from sklearn.pipeline       import make_pipeline\n",
    "from sklearn.preprocessing import StandardScaler\n",
    "from sklearn.linear_model   import LogisticRegression\n",
    "from sklearn.ensemble       import RandomForestClassifier, VotingClassifier\n",
    "from sklearn.metrics        import classification_report, confusion_matrix\n",
    "import matplotlib.pyplot as plt\n",
    "import seaborn as sns\n",
    "\n",
    "rf = RandomForestClassifier(\n",
    "    n_estimators=200, max_depth=7,\n",
    "    class_weight=\"balanced\", random_state=42, n_jobs=-1\n",
    ")\n",
    "pipe_lr = make_pipeline(\n",
    "    StandardScaler(),\n",
    "    LogisticRegression(solver=\"saga\", max_iter=2000,\n",
    "                       class_weight=\"balanced\", random_state=42)\n",
    ")\n",
    "\n",
    "vot = VotingClassifier(\n",
    "    estimators=[(\"hgb\", best_hgb), (\"rf\", rf), (\"lr\", pipe_lr)],\n",
    "    voting=\"soft\", weights=[3,2,1], n_jobs=-1\n",
    ")\n",
    "vot.fit(X_train, y_train)\n",
    "\n",
    "y_pred = vot.predict(X_test)\n",
    "print(classification_report(y_test, y_pred,\n",
    "      target_names=[\"Away win\",\"Home win\",\"Draw\"]))\n",
    "cm = confusion_matrix(y_test, y_pred)\n",
    "plt.figure(figsize=(6,5))\n",
    "sns.heatmap(cm,annot=True,fmt=\"d\",cmap=\"Blues\",\n",
    "            xticklabels=[\"Away\",\"Home\",\"Draw\"],\n",
    "            yticklabels=[\"Away\",\"Home\",\"Draw\"])\n",
    "plt.show()\n"
   ],
   "id": "65f3b83d99fd6f22",
   "outputs": [
    {
     "name": "stdout",
     "output_type": "stream",
     "text": [
      "              precision    recall  f1-score   support\n",
      "\n",
      "    Away win       0.55      0.70      0.62       597\n",
      "    Home win       0.63      0.74      0.68       887\n",
      "        Draw       0.39      0.16      0.23       518\n",
      "\n",
      "    accuracy                           0.58      2002\n",
      "   macro avg       0.53      0.53      0.51      2002\n",
      "weighted avg       0.55      0.58      0.55      2002\n",
      "\n"
     ]
    },
    {
     "name": "stderr",
     "output_type": "stream",
     "text": [
      "/Users/arsenijgrazdancev/PyCharmMiscProject/.venv/lib/python3.9/site-packages/sklearn/utils/extmath.py:203: RuntimeWarning: divide by zero encountered in matmul\n",
      "  ret = a @ b\n",
      "/Users/arsenijgrazdancev/PyCharmMiscProject/.venv/lib/python3.9/site-packages/sklearn/utils/extmath.py:203: RuntimeWarning: overflow encountered in matmul\n",
      "  ret = a @ b\n",
      "/Users/arsenijgrazdancev/PyCharmMiscProject/.venv/lib/python3.9/site-packages/sklearn/utils/extmath.py:203: RuntimeWarning: invalid value encountered in matmul\n",
      "  ret = a @ b\n"
     ]
    },
    {
     "data": {
      "text/plain": [
       "<Figure size 600x500 with 2 Axes>"
      ],
      "image/png": "[encoded data removed]"
     },
     "metadata": {},
     "output_type": "display_data"
    }
   ],
   "execution_count": 6
  },
  {
   "metadata": {
    "ExecuteTime": {
     "end_time": "2025-05-29T09:36:02.904865Z",
     "start_time": "2025-05-29T09:36:02.700111Z"
    }
   },
   "cell_type": "code",
   "source": [
    "import numpy as np\n",
    "import matplotlib.pyplot as plt\n",
    "from sklearn.metrics import f1_score, classification_report\n",
    "\n",
    "probs = best_hgb.predict_proba(X_test)\n",
    "\n",
    "thresholds = np.linspace(0.1,0.4,31)\n",
    "best_t, best_f1 = 0, -1\n",
    "for t in thresholds:\n",
    "    preds = [2 if p[2]>t else np.argmax(p[:2]) for p in probs]\n",
    "    f1d = f1_score(y_test, preds, labels=[2], average=\"macro\")\n",
    "    if f1d>best_f1:\n",
    "        best_f1, best_t = f1d, t\n",
    "print(f\"Optimum t_draw={best_t:.3f}, F1(Draw)={best_f1:.3f}\")\n",
    "\n",
    "y_tuned = [2 if p[2]>best_t else np.argmax(p[:2]) for p in probs]\n",
    "print(classification_report(\n",
    "    y_test, y_tuned,\n",
    "    target_names=[\"Away win\",\"Home win\",\"Draw\"]\n",
    "))\n",
    "plt.plot(thresholds, [f1_score(y_test, [2 if p[2]>t else np.argmax(p[:2]) for p in probs],\n",
    "                               labels=[2], average=\"macro\") for t in thresholds],\n",
    "         marker=\"o\")\n",
    "plt.axvline(best_t, color=\"red\", linestyle=\"--\")\n",
    "plt.title(\"F1(Draw) vs. Threshold\"); plt.xlabel(\"Threshold\"); plt.ylabel(\"F1\"); plt.show()\n"
   ],
   "id": "25fd4bf24b173e11",
   "outputs": [
    {
     "name": "stdout",
     "output_type": "stream",
     "text": [
      "Optimum t_draw=0.170, F1(Draw)=0.434\n",
      "              precision    recall  f1-score   support\n",
      "\n",
      "    Away win       0.74      0.18      0.28       597\n",
      "    Home win       0.82      0.23      0.36       887\n",
      "        Draw       0.29      0.89      0.43       518\n",
      "\n",
      "    accuracy                           0.39      2002\n",
      "   macro avg       0.62      0.43      0.36      2002\n",
      "weighted avg       0.66      0.39      0.36      2002\n",
      "\n"
     ]
    },
    {
     "data": {
      "text/plain": [
       "<Figure size 640x480 with 1 Axes>"
      ],
      "image/png": "[encoded data removed]"
     },
     "metadata": {},
     "output_type": "display_data"
    }
   ],
   "execution_count": 7
  },
  {
   "metadata": {
    "ExecuteTime": {
     "end_time": "2025-05-29T09:37:18.755827Z",
     "start_time": "2025-05-29T09:36:35.485608Z"
    }
   },
   "cell_type": "code",
   "source": [
    "from catboost import CatBoostClassifier\n",
    "from sklearn.model_selection import RandomizedSearchCV, StratifiedKFold\n",
    "from sklearn.metrics import classification_report, confusion_matrix\n",
    "import seaborn as sns\n",
    "\n",
    "features_cb = features\n",
    "X_cb, y_cb = X_train.copy(), y_train.copy()\n",
    "\n",
    "cbc = CatBoostClassifier(\n",
    "    task_type=\"CPU\", eval_metric=\"MultiClass\",\n",
    "    verbose=False, random_state=42\n",
    ")\n",
    "param_dist = {\n",
    "    \"depth\":        [4,6,8,10],\n",
    "    \"learning_rate\":[0.01,0.05,0.1],\n",
    "    \"l2_leaf_reg\":  [1,3,5,7],\n",
    "    \"iterations\":   [100,200,500]\n",
    "}\n",
    "\n",
    "rand_cbc = RandomizedSearchCV(\n",
    "    cbc, param_dist, n_iter=20,\n",
    "    cv=StratifiedKFold(5, shuffle=True, random_state=42),\n",
    "    scoring=\"f1_macro\", n_jobs=-1, random_state=42, verbose=1\n",
    ")\n",
    "rand_cbc.fit(X_train, y_train)\n",
    "\n",
    "best_cbc = rand_cbc.best_estimator_\n",
    "print(\"Best CatBoost params:\", rand_cbc.best_params_)\n",
    "print(\"CV macro-F1:\", rand_cbc.best_score_)\n",
    "\n",
    "# 8.3 Оценка\n",
    "y_pred_cb = best_cbc.predict(X_test)\n",
    "print(classification_report(y_test, y_pred_cb,\n",
    "      target_names=[\"Away win\",\"Home win\",\"Draw\"]))\n",
    "cm_cb = confusion_matrix(y_test, y_pred_cb)\n",
    "sns.heatmap(cm_cb, annot=True, fmt=\"d\", cmap=\"viridis\",\n",
    "            xticklabels=[\"Away\",\"Home\",\"Draw\"], yticklabels=[\"Away\",\"Home\",\"Draw\"])\n"
   ],
   "id": "232cfc8aab15f05f",
   "outputs": [
    {
     "name": "stdout",
     "output_type": "stream",
     "text": [
      "Fitting 5 folds for each of 20 candidates, totalling 100 fits\n",
      "Best CatBoost params: {'learning_rate': 0.05, 'l2_leaf_reg': 3, 'iterations': 500, 'depth': 8}\n",
      "CV macro-F1: 0.4942818814722479\n",
      "              precision    recall  f1-score   support\n",
      "\n",
      "    Away win       0.55      0.66      0.60       597\n",
      "    Home win       0.61      0.77      0.68       887\n",
      "        Draw       0.39      0.13      0.20       518\n",
      "\n",
      "    accuracy                           0.57      2002\n",
      "   macro avg       0.52      0.52      0.49      2002\n",
      "weighted avg       0.54      0.57      0.53      2002\n",
      "\n"
     ]
    },
    {
     "data": {
      "text/plain": [
       "<Axes: >"
      ]
     },
     "execution_count": 9,
     "metadata": {},
     "output_type": "execute_result"
    },
    {
     "data": {
      "text/plain": [
       "<Figure size 640x480 with 2 Axes>"
      ],
      "image/png": "[encoded data removed]"
     },
     "metadata": {},
     "output_type": "display_data"
    }
   ],
   "execution_count": 9
  },
  {
   "metadata": {
    "ExecuteTime": {
     "end_time": "2025-05-29T09:37:41.120189Z",
     "start_time": "2025-05-29T09:37:27.581095Z"
    }
   },
   "cell_type": "code",
   "source": [
    "from sklearn.manifold import TSNE\n",
    "from sklearn.model_selection import train_test_split\n",
    "from sklearn.ensemble import HistGradientBoostingClassifier\n",
    "from sklearn.metrics import f1_score, classification_report, confusion_matrix\n",
    "import matplotlib.pyplot as plt\n",
    "import seaborn as sns\n",
    "\n",
    "features_num = features\n",
    "cats         = [\"homeTeam\",\"awayTeam\"]\n",
    "\n",
    "X_raw = matches[features_num + cats].copy()\n",
    "y_raw = matches[\"result\"]\n",
    "\n",
    "global_mean = y_raw.mean()\n",
    "home_te = matches.groupby(\"homeTeam\")[\"result\"].mean()\n",
    "away_te = matches.groupby(\"awayTeam\")[\"result\"].mean()\n",
    "X_raw[\"homeTeam_te\"] = X_raw[\"homeTeam\"].map(home_te).fillna(global_mean)\n",
    "X_raw[\"awayTeam_te\"] = X_raw[\"awayTeam\"].map(away_te).fillna(global_mean)\n",
    "\n",
    "te_feats = [\"homeTeam_te\",\"awayTeam_te\"]\n",
    "emb = TSNE(n_components=2, random_state=42).fit_transform(X_raw[te_feats])\n",
    "X_raw[\"team_tsne1\"], X_raw[\"team_tsne2\"] = emb[:,0], emb[:,1]\n",
    "\n",
    "X_train9, X_test9, y_train9, y_test9 = train_test_split(\n",
    "    X_raw[features_num+te_feats+[\"team_tsne1\",\"team_tsne2\"]].fillna(0),\n",
    "    y_raw, test_size=0.2, random_state=42, stratify=y_raw\n",
    ")\n",
    "hgb9 = HistGradientBoostingClassifier(random_state=42).fit(X_train9, y_train9)\n",
    "y_pred9 = hgb9.predict(X_test9)\n",
    "\n",
    "print(\"Macro-F1 (TE+TSNE):\", f1_score(y_test9, y_pred9, average=\"macro\"))\n",
    "print(classification_report(y_test9, y_pred9,\n",
    "      target_names=[\"Away\",\"Home\",\"Draw\"]))\n",
    "cm9 = confusion_matrix(y_test9, y_pred9)\n",
    "sns.heatmap(cm9, annot=True, fmt=\"d\", cmap=\"magma\",\n",
    "            xticklabels=[\"Away\",\"Home\",\"Draw\"], yticklabels=[\"Away\",\"Home\",\"Draw\"])\n"
   ],
   "id": "2a2701c8cad82b05",
   "outputs": [
    {
     "name": "stderr",
     "output_type": "stream",
     "text": [
      "/Users/arsenijgrazdancev/PyCharmMiscProject/.venv/lib/python3.9/site-packages/sklearn/utils/extmath.py:335: RuntimeWarning: divide by zero encountered in matmul\n",
      "  Q, _ = normalizer(A @ Q)\n",
      "/Users/arsenijgrazdancev/PyCharmMiscProject/.venv/lib/python3.9/site-packages/sklearn/utils/extmath.py:335: RuntimeWarning: overflow encountered in matmul\n",
      "  Q, _ = normalizer(A @ Q)\n",
      "/Users/arsenijgrazdancev/PyCharmMiscProject/.venv/lib/python3.9/site-packages/sklearn/utils/extmath.py:335: RuntimeWarning: invalid value encountered in matmul\n",
      "  Q, _ = normalizer(A @ Q)\n",
      "/Users/arsenijgrazdancev/PyCharmMiscProject/.venv/lib/python3.9/site-packages/sklearn/utils/extmath.py:336: RuntimeWarning: divide by zero encountered in matmul\n",
      "  Q, _ = normalizer(A.T @ Q)\n",
      "/Users/arsenijgrazdancev/PyCharmMiscProject/.venv/lib/python3.9/site-packages/sklearn/utils/extmath.py:336: RuntimeWarning: overflow encountered in matmul\n",
      "  Q, _ = normalizer(A.T @ Q)\n",
      "/Users/arsenijgrazdancev/PyCharmMiscProject/.venv/lib/python3.9/site-packages/sklearn/utils/extmath.py:336: RuntimeWarning: invalid value encountered in matmul\n",
      "  Q, _ = normalizer(A.T @ Q)\n",
      "/Users/arsenijgrazdancev/PyCharmMiscProject/.venv/lib/python3.9/site-packages/sklearn/utils/extmath.py:340: RuntimeWarning: divide by zero encountered in matmul\n",
      "  Q, _ = qr_normalizer(A @ Q)\n",
      "/Users/arsenijgrazdancev/PyCharmMiscProject/.venv/lib/python3.9/site-packages/sklearn/utils/extmath.py:340: RuntimeWarning: overflow encountered in matmul\n",
      "  Q, _ = qr_normalizer(A @ Q)\n",
      "/Users/arsenijgrazdancev/PyCharmMiscProject/.venv/lib/python3.9/site-packages/sklearn/utils/extmath.py:340: RuntimeWarning: invalid value encountered in matmul\n",
      "  Q, _ = qr_normalizer(A @ Q)\n",
      "/Users/arsenijgrazdancev/PyCharmMiscProject/.venv/lib/python3.9/site-packages/sklearn/utils/extmath.py:533: RuntimeWarning: divide by zero encountered in matmul\n",
      "  B = Q.T @ M\n",
      "/Users/arsenijgrazdancev/PyCharmMiscProject/.venv/lib/python3.9/site-packages/sklearn/utils/extmath.py:533: RuntimeWarning: overflow encountered in matmul\n",
      "  B = Q.T @ M\n",
      "/Users/arsenijgrazdancev/PyCharmMiscProject/.venv/lib/python3.9/site-packages/sklearn/utils/extmath.py:533: RuntimeWarning: invalid value encountered in matmul\n",
      "  B = Q.T @ M\n",
      "/Users/arsenijgrazdancev/PyCharmMiscProject/.venv/lib/python3.9/site-packages/sklearn/utils/extmath.py:547: RuntimeWarning: divide by zero encountered in matmul\n",
      "  U = Q @ Uhat\n",
      "/Users/arsenijgrazdancev/PyCharmMiscProject/.venv/lib/python3.9/site-packages/sklearn/utils/extmath.py:547: RuntimeWarning: overflow encountered in matmul\n",
      "  U = Q @ Uhat\n",
      "/Users/arsenijgrazdancev/PyCharmMiscProject/.venv/lib/python3.9/site-packages/sklearn/utils/extmath.py:547: RuntimeWarning: invalid value encountered in matmul\n",
      "  U = Q @ Uhat\n"
     ]
    },
    {
     "name": "stdout",
     "output_type": "stream",
     "text": [
      "Macro-F1 (TE+TSNE): 0.5029841048503304\n",
      "              precision    recall  f1-score   support\n",
      "\n",
      "        Away       0.56      0.60      0.58       597\n",
      "        Home       0.61      0.75      0.67       887\n",
      "        Draw       0.36      0.20      0.26       518\n",
      "\n",
      "    accuracy                           0.56      2002\n",
      "   macro avg       0.51      0.51      0.50      2002\n",
      "weighted avg       0.53      0.56      0.54      2002\n",
      "\n"
     ]
    },
    {
     "data": {
      "text/plain": [
       "<Axes: >"
      ]
     },
     "execution_count": 10,
     "metadata": {},
     "output_type": "execute_result"
    },
    {
     "data": {
      "text/plain": [
       "<Figure size 640x480 with 2 Axes>"
      ],
      "image/png": "[encoded data removed]"
     },
     "metadata": {},
     "output_type": "display_data"
    }
   ],
   "execution_count": 10
  },
  {
   "metadata": {
    "ExecuteTime": {
     "end_time": "2025-05-29T09:38:28.748727Z",
     "start_time": "2025-05-29T09:38:24.145647Z"
    }
   },
   "cell_type": "code",
   "source": [
    "import numpy as np\n",
    "from sklearn.linear_model   import LogisticRegression\n",
    "from sklearn.ensemble       import HistGradientBoostingClassifier, RandomForestClassifier\n",
    "from sklearn.model_selection import StratifiedKFold, cross_val_predict\n",
    "from sklearn.metrics        import f1_score, classification_report, confusion_matrix\n",
    "import seaborn as sns\n",
    "import matplotlib.pyplot as plt\n",
    "\n",
    "best_hgb_params = rand_hgb.best_params_\n",
    "best_rf_params  = {\n",
    "    \"n_estimators\":200, \"max_depth\":10,\n",
    "    \"min_samples_leaf\":3, \"class_weight\":\"balanced\",\n",
    "    \"random_state\":42\n",
    "}\n",
    "\n",
    "models = {\n",
    "    \"hgb\": HistGradientBoostingClassifier(**best_hgb_params, random_state=42),\n",
    "    \"rf\" : RandomForestClassifier(**best_rf_params)\n",
    "}\n",
    "\n",
    "skf = StratifiedKFold(n_splits=5, shuffle=True, random_state=42)\n",
    "n_train, n_test = X_train.shape[0], X_test.shape[0]\n",
    "n_classes = len(np.unique(y_train))\n",
    "n_models  = len(models)\n",
    "\n",
    "meta_train = np.zeros((n_train,  n_models*n_classes))\n",
    "meta_test  = np.zeros((n_test,   n_models*n_classes))\n",
    "\n",
    "for idx,(name,mdl) in enumerate(models.items()):\n",
    "    proba_cv = cross_val_predict(\n",
    "        mdl, X_train, y_train, cv=skf,\n",
    "        method=\"predict_proba\", n_jobs=-1\n",
    "    )\n",
    "    start, end = idx*n_classes, (idx+1)*n_classes\n",
    "    meta_train[:, start:end] = proba_cv\n",
    "\n",
    "    mdl.fit(X_train, y_train)\n",
    "    meta_test[:,  start:end] = mdl.predict_proba(X_test)\n",
    "\n",
    "meta_cols = [f\"{m}_p{c}\" for m in models for c in range(n_classes)]\n",
    "meta_train_df = pd.DataFrame(meta_train, columns=meta_cols, index=X_train.index)\n",
    "meta_test_df  = pd.DataFrame(meta_test,  columns=meta_cols, index=X_test.index)\n",
    "\n",
    "meta_model = LogisticRegression(\n",
    "    multi_class=\"multinomial\", solver=\"lbfgs\",\n",
    "    max_iter=500, random_state=42\n",
    ")\n",
    "meta_model.fit(meta_train_df, y_train)\n",
    "\n",
    "y_pred_meta = meta_model.predict(meta_test_df)\n",
    "print(\"STACKING Macro-F1:\", f1_score(y_test, y_pred_meta, average=\"macro\"))\n",
    "print(classification_report(y_test, y_pred_meta,\n",
    "      target_names=[\"Away\",\"Home\",\"Draw\"]))\n",
    "cm10 = confusion_matrix(y_test, y_pred_meta)\n",
    "sns.heatmap(cm10, annot=True, fmt=\"d\", cmap=\"viridis\",\n",
    "            xticklabels=[\"Away\",\"Home\",\"Draw\"], yticklabels=[\"Away\",\"Home\",\"Draw\"])\n",
    "plt.show()\n"
   ],
   "id": "7127852417cf2927",
   "outputs": [
    {
     "name": "stdout",
     "output_type": "stream",
     "text": [
      "STACKING Macro-F1: 0.48601460143833725\n",
      "              precision    recall  f1-score   support\n",
      "\n",
      "        Away       0.56      0.69      0.62       597\n",
      "        Home       0.61      0.80      0.69       887\n",
      "        Draw       0.43      0.09      0.15       518\n",
      "\n",
      "    accuracy                           0.58      2002\n",
      "   macro avg       0.53      0.53      0.49      2002\n",
      "weighted avg       0.55      0.58      0.53      2002\n",
      "\n"
     ]
    },
    {
     "name": "stderr",
     "output_type": "stream",
     "text": [
      "/Users/arsenijgrazdancev/PyCharmMiscProject/.venv/lib/python3.9/site-packages/sklearn/linear_model/_logistic.py:1247: FutureWarning: 'multi_class' was deprecated in version 1.5 and will be removed in 1.7. From then on, it will always use 'multinomial'. Leave it to its default value to avoid this warning.\n",
      "  warnings.warn(\n",
      "/Users/arsenijgrazdancev/PyCharmMiscProject/.venv/lib/python3.9/site-packages/sklearn/linear_model/_linear_loss.py:203: RuntimeWarning: divide by zero encountered in matmul\n",
      "  raw_prediction = X @ weights.T + intercept  # ndarray, likely C-contiguous\n",
      "/Users/arsenijgrazdancev/PyCharmMiscProject/.venv/lib/python3.9/site-packages/sklearn/linear_model/_linear_loss.py:203: RuntimeWarning: overflow encountered in matmul\n",
      "  raw_prediction = X @ weights.T + intercept  # ndarray, likely C-contiguous\n",
      "/Users/arsenijgrazdancev/PyCharmMiscProject/.venv/lib/python3.9/site-packages/sklearn/linear_model/_linear_loss.py:203: RuntimeWarning: invalid value encountered in matmul\n",
      "  raw_prediction = X @ weights.T + intercept  # ndarray, likely C-contiguous\n",
      "/Users/arsenijgrazdancev/PyCharmMiscProject/.venv/lib/python3.9/site-packages/sklearn/linear_model/_linear_loss.py:336: RuntimeWarning: divide by zero encountered in matmul\n",
      "  grad[:, :n_features] = grad_pointwise.T @ X + l2_reg_strength * weights\n",
      "/Users/arsenijgrazdancev/PyCharmMiscProject/.venv/lib/python3.9/site-packages/sklearn/linear_model/_linear_loss.py:336: RuntimeWarning: overflow encountered in matmul\n",
      "  grad[:, :n_features] = grad_pointwise.T @ X + l2_reg_strength * weights\n",
      "/Users/arsenijgrazdancev/PyCharmMiscProject/.venv/lib/python3.9/site-packages/sklearn/linear_model/_linear_loss.py:336: RuntimeWarning: invalid value encountered in matmul\n",
      "  grad[:, :n_features] = grad_pointwise.T @ X + l2_reg_strength * weights\n",
      "/Users/arsenijgrazdancev/PyCharmMiscProject/.venv/lib/python3.9/site-packages/sklearn/utils/extmath.py:203: RuntimeWarning: divide by zero encountered in matmul\n",
      "  ret = a @ b\n",
      "/Users/arsenijgrazdancev/PyCharmMiscProject/.venv/lib/python3.9/site-packages/sklearn/utils/extmath.py:203: RuntimeWarning: overflow encountered in matmul\n",
      "  ret = a @ b\n",
      "/Users/arsenijgrazdancev/PyCharmMiscProject/.venv/lib/python3.9/site-packages/sklearn/utils/extmath.py:203: RuntimeWarning: invalid value encountered in matmul\n",
      "  ret = a @ b\n"
     ]
    },
    {
     "data": {
      "text/plain": [
       "<Figure size 640x480 with 2 Axes>"
      ],
      "image/png": "[encoded data removed]"
     },
     "metadata": {},
     "output_type": "display_data"
    }
   ],
   "execution_count": 11
  }
 ],
 "metadata": {
  "kernelspec": {
   "display_name": "Python 3",
   "language": "python",
   "name": "python3"
  },
  "language_info": {
   "codemirror_mode": {
    "name": "ipython",
    "version": 2
   },
   "file_extension": ".py",
   "mimetype": "text/x-python",
   "name": "python",
   "nbconvert_exporter": "python",
   "pygments_lexer": "ipython2",
   "version": "2.7.6"
  }
 },
 "nbformat": 4,
 "nbformat_minor": 5
}
